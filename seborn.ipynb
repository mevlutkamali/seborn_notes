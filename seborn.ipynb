{
 "cells": [
  {
   "cell_type": "code",
   "execution_count": null,
   "id": "b81533ba",
   "metadata": {
    "scrolled": false
   },
   "outputs": [],
   "source": [
    "pip install seaborn"
   ]
  },
  {
   "cell_type": "markdown",
   "id": "17747ea2",
   "metadata": {},
   "source": [
    "**Seaborn**, Python programlama dili için veri görselleştirme kütüphanesidir ve özellikle veri analizi ve veri keşfi süreçlerinde kullanılır. Seaborn, Matplotlib'e dayalı bir yüksek seviyeli arayüz sağlar ve veri görselleştirmeyi daha kolay ve çekici hale getirir."
   ]
  },
  {
   "cell_type": "code",
   "execution_count": null,
   "id": "596c79fc",
   "metadata": {},
   "outputs": [],
   "source": [
    "import numpy as np\n",
    "import pandas as pd\n",
    "import seaborn as sns\n",
    "import matplotlib.pyplot as plt"
   ]
  },
  {
   "cell_type": "code",
   "execution_count": null,
   "id": "6c9b925a",
   "metadata": {},
   "outputs": [],
   "source": [
    "df = pd.read_csv(\"community_health_metric.csv\")\n",
    "df"
   ]
  },
  {
   "cell_type": "code",
   "execution_count": null,
   "id": "6d7f92ee",
   "metadata": {},
   "outputs": [],
   "source": [
    "df.describe()"
   ]
  },
  {
   "cell_type": "markdown",
   "id": "6e681a43",
   "metadata": {},
   "source": [
    "**.describe()** bir Python pandas DataFrame veya Serisi üzerinde kullanılabilen bir metoddur. Bu metod, veri setinin temel istatistiksel özelliklerini hesaplar ve bu özellikleri bir özet istatistik tablosu olarak döndürür."
   ]
  },
  {
   "cell_type": "markdown",
   "id": "c7bb1950",
   "metadata": {},
   "source": [
    "**Scatter Plot**"
   ]
  },
  {
   "cell_type": "code",
   "execution_count": null,
   "id": "f07ea044",
   "metadata": {},
   "outputs": [],
   "source": [
    "sns.scatterplot(data=df, x=\"yas\", y=\"kilo\")"
   ]
  },
  {
   "cell_type": "code",
   "execution_count": null,
   "id": "479d1dc0",
   "metadata": {},
   "outputs": [],
   "source": [
    "plt.figure(figsize=(8, 6), dpi=100)\n",
    "\n",
    "sns.scatterplot(data=df, x=\"yas\", y=\"kilo\", hue=\"cinsiyet\", size=\"etnik\", palette=\"viridis\")"
   ]
  },
  {
   "cell_type": "markdown",
   "id": "9c246cc7",
   "metadata": {},
   "source": [
    "**hue** veri setinizdeki farklı kategorilere ait verileri renkler aracılığıyla vurgulamanızı sağlar . Bu, verilerinizi daha iyi anlamanıza ve farklı kategoriler arasındaki ilişkileri görselleştirmenize yardımcı olabilir ."
   ]
  },
  {
   "cell_type": "markdown",
   "id": "a89795c8",
   "metadata": {},
   "source": [
    "**size** ile verileri değerşerine göre daha farklı boyutlar alabilirler ."
   ]
  },
  {
   "cell_type": "markdown",
   "id": "25b041df",
   "metadata": {},
   "source": [
    "**palette** ile tablo üzerinde renk değiştirme işlemlerini başırılı bir şekilde gerçekleştirebiliriz ."
   ]
  },
  {
   "cell_type": "code",
   "execution_count": null,
   "id": "cbe6747a",
   "metadata": {},
   "outputs": [],
   "source": [
    "plt.figure(figsize=(8, 6), dpi=200)\n",
    "\n",
    "sns.scatterplot(data=df, x=\"yas\", y=\"kilo\", alpha=0.4, style=\"cinsiyet\")"
   ]
  },
  {
   "cell_type": "markdown",
   "id": "c02c2287",
   "metadata": {},
   "source": [
    "**\"alpha\"** bir renk veya çizgi kalınlığına uygulanan bir şeffaflık (transparanlık) seviyesini ifade eder . Alpha, 0 ile 1 arasındaki bir değerdir ve renklerin veya çizgilerin ne kadar saydam veya opak olduğunu belirler ."
   ]
  },
  {
   "cell_type": "markdown",
   "id": "f1392735",
   "metadata": {},
   "source": [
    "**\"style\"** (stil) parametresi , veri görselleştirmeleri oluştururken kullanabileceğiniz grafiklerin genel görünümünü ve stilini ayarlamak için kullanılır . Seaborn'da farklı stiller mevcuttur ve bu stil parametresi , grafiklerinizin renklerini , çizgi stillerini, yazı tipini ve diğer görsel özelliklerini kolayca özelleştirmenize olanak tanır ."
   ]
  },
  {
   "cell_type": "markdown",
   "id": "8db3fb6c",
   "metadata": {},
   "source": [
    "**Countplot**"
   ]
  },
  {
   "cell_type": "markdown",
   "id": "ccf1478d",
   "metadata": {},
   "source": [
    "**Countplot** , Seaborn kütüphanesinde kullanılan bir grafik türüdür ve kategorik verilerin sayılarını görselleştirmek için kullanılır . Bu tür bir grafik , her bir kategoriye ait veri noktalarının sayısını çubuk grafik (bar plot) şeklinde gösterir . Countplot genellikle kategorik verilerin dağılımını incelemek veya belirli bir veri kümesindeki kategorik sınıf sayılarını görmek için kullanılır ."
   ]
  },
  {
   "cell_type": "code",
   "execution_count": null,
   "id": "b7ea6d6c",
   "metadata": {
    "scrolled": false
   },
   "outputs": [],
   "source": [
    "sns.countplot(data=df, x=\"etnik\")"
   ]
  },
  {
   "cell_type": "markdown",
   "id": "b2e7ada9",
   "metadata": {},
   "source": [
    "Yukarıda mevcut olan grafiğin tam sayı degerlerini almak için aşagıda ki kodu kullanabiliriz ."
   ]
  },
  {
   "cell_type": "code",
   "execution_count": null,
   "id": "589773d6",
   "metadata": {},
   "outputs": [],
   "source": [
    "df[\"etnik\"].value_counts()"
   ]
  },
  {
   "cell_type": "code",
   "execution_count": null,
   "id": "25656265",
   "metadata": {},
   "outputs": [],
   "source": [
    "plt.figure(figsize=(11, 9), dpi=200)\n",
    "sns.countplot(data=df, x=\"dr\")"
   ]
  },
  {
   "cell_type": "code",
   "execution_count": null,
   "id": "79c13875",
   "metadata": {},
   "outputs": [],
   "source": [
    "df[\"dr\"].value_counts()"
   ]
  },
  {
   "cell_type": "markdown",
   "id": "43df32e7",
   "metadata": {},
   "source": [
    "**Barplot**"
   ]
  },
  {
   "cell_type": "markdown",
   "id": "77b4dc30",
   "metadata": {},
   "source": [
    "**barplot** , Seaborn kütüphanesinde kullanılan bir grafik türüdür ve kategorik ve sayısal verilerin ilişkisini görselleştirmek için kullanılır . Bu grafik , bir kategorik değişkenin farklı sınıflarının sayısal bir özelliğinin merkezi eğilimini (genellikle ortalamasını) gösterir ."
   ]
  },
  {
   "cell_type": "code",
   "execution_count": null,
   "id": "9218926b",
   "metadata": {},
   "outputs": [],
   "source": [
    "plt.figure(figsize=(16, 11), dpi=200)\n",
    "sns.barplot(data=df, x=\"yas\", y=\"boy\")"
   ]
  },
  {
   "cell_type": "markdown",
   "id": "3eb7fb34",
   "metadata": {},
   "source": [
    "**HİSTOGRAM**"
   ]
  },
  {
   "cell_type": "markdown",
   "id": "9191341a",
   "metadata": {},
   "source": [
    "Histogramlar , bir veri kümesindeki değerlerin dağılımını gösteren çok yaygın bir grafik türüdür . Bir histogram , bir sayısal değişkenin aralığını (binler) böler ve her bir aralıktaki veri noktalarının sayısını gösteren çubuklarla temsil eder . Bu , verinin yoğunluğunu ve dağılımını görsel olarak anlamak için kullanışlıdır ."
   ]
  },
  {
   "cell_type": "code",
   "execution_count": null,
   "id": "9e1495a0",
   "metadata": {},
   "outputs": [],
   "source": [
    "sns.histplot(data=df, x=\"dr\")"
   ]
  },
  {
   "cell_type": "code",
   "execution_count": null,
   "id": "9a7eebf6",
   "metadata": {},
   "outputs": [],
   "source": [
    "sns.histplot(data=df, x=\"dr\", bins=10, kde=True)"
   ]
  },
  {
   "cell_type": "markdown",
   "id": "a6839f42",
   "metadata": {},
   "source": [
    "**bins** parametresi , histogramdaki bu çubukların sayısını kontrol etmenize olanak tanır . Özellikle veri kümenizdeki değerler çok sayıda ise veya verinin dağılımını daha ayrıntılı bir şekilde incelemek istiyorsanız , bins parametresini ayarlayarak histogramın ayrıntısını özelleştirebilirsiniz ."
   ]
  },
  {
   "cell_type": "markdown",
   "id": "2ad9225f",
   "metadata": {},
   "source": [
    "\n",
    "**kde** (Kernel Density Estimation) parametresi , Seaborn'ün histplot fonksiyonunda kullanılan bir parametredir . Bu parametre , histograma ek olarak veri dağılımını bir yoğunluk tahmini çizgisi ile görselleştirmenize olanak tanır . Yoğunluk tahmini , veri dağılımının daha yumuşak bir tahminini sunar ve veri noktalarının yoğunluğunu daha iyi anlamanıza yardımcı olur .\n",
    "\n",
    "kde parametresini kullanarak histplot fonksiyonunu çağırırken , True veya False değerlerini kabul eder . True olarak ayarlandığında, yoğunluk tahmini çizgisi histogramın üzerine eklenir . False olarak ayarlandığında , yoğunluk tahmin çizgisi oluşturulmaz ."
   ]
  },
  {
   "cell_type": "markdown",
   "id": "325e6bd0",
   "metadata": {},
   "source": [
    "**. . .**"
   ]
  },
  {
   "cell_type": "markdown",
   "id": "0e196b48",
   "metadata": {},
   "source": [
    "Tema ayarlarken aşagıdaki kod ile ayarlayabiliriz . Ama bir kere ayarlayınca sürekli aynı tema gelir ta ki o temayı değiştirinceye kadar . "
   ]
  },
  {
   "cell_type": "code",
   "execution_count": null,
   "id": "aca9f2fe",
   "metadata": {},
   "outputs": [],
   "source": [
    "sns.set(style=\"dark\")\n",
    "sns.histplot(data=df, x=\"dr\", kde=True, edgecolor=\"purple\", lw=1.5, color=\"orange\")"
   ]
  },
  {
   "cell_type": "markdown",
   "id": "81563c37",
   "metadata": {},
   "source": [
    "**edgecolor=\". . .\"** kenar çizgi rengini ayarlamak için kullanılır ."
   ]
  },
  {
   "cell_type": "markdown",
   "id": "212c0db8",
   "metadata": {},
   "source": [
    "**lw=. . .** kenar çizgilerini kalınkaştırmak ve ya inceltemek için kullanılan bir komuttur ."
   ]
  },
  {
   "cell_type": "markdown",
   "id": "84f78bbf",
   "metadata": {},
   "source": [
    "**color=\". . .\"** sütunların iç rengini belirlemek için kullanırız . "
   ]
  },
  {
   "cell_type": "markdown",
   "id": "8cfa4b1c",
   "metadata": {},
   "source": [
    "**. . .**"
   ]
  },
  {
   "cell_type": "markdown",
   "id": "0355c925",
   "metadata": {},
   "source": [
    "**rugplot**"
   ]
  },
  {
   "cell_type": "markdown",
   "id": "a17d0e02",
   "metadata": {},
   "source": [
    "\n",
    "**rugplot** , Seaborn kütüphanesinde kullanılan bir veri görselleştirme grafiği türüdür . rugplot , veri noktalarının bir eksen üzerindeki konumlarını göstermek için kullanılır ve veri dağılımını daha iyi anlamak için diğer grafiklerle birlikte kullanılabilir .\n",
    "\n",
    "rugplot grafiği , veri noktalarını bir çizgi veya eksen üzerinde küçük çizgiler (rug) olarak temsil eder . Her veri noktası , verinin nerede bulunduğunu gösteren bu küçük çizgilere sahiptir . rugplot grafiği, veri dağılımının yoğunluğunu ve veri noktalarının dağılımını daha iyi görselleştirmek için kullanışlıdır ."
   ]
  },
  {
   "cell_type": "code",
   "execution_count": null,
   "id": "ff350eb4",
   "metadata": {},
   "outputs": [],
   "source": [
    "sns.rugplot(data=df, x=\"yas\")"
   ]
  },
  {
   "cell_type": "code",
   "execution_count": null,
   "id": "bf59f7d8",
   "metadata": {},
   "outputs": [],
   "source": [
    "sns.rugplot(data=df, x=\"yas\", height=0.5)"
   ]
  },
  {
   "cell_type": "markdown",
   "id": "5a43e30c",
   "metadata": {},
   "source": [
    "**kdeplot**"
   ]
  },
  {
   "cell_type": "markdown",
   "id": "e3ae3ae6",
   "metadata": {},
   "source": [
    "\n",
    "**kdeplot** (Kernel Density Estimation Plot), Seaborn kütüphanesinde kullanılan ve veri dağılımını görselleştirmek için yaygın olarak kullanılan bir grafik türüdür. kdeplot, veri noktalarının yoğunluk tahminini bir yoğunluk tahmini çizgisi (kernel density estimate) veya çizgisi ile gösterir. Bu çizgi, veri noktalarının yoğunluğunu daha pürüzsüz bir şekilde temsil eder ve verinin dağılımını daha iyi anlamanıza yardımcı olur.\n",
    "\n",
    "kdeplot grafiği, veri dağılımının yoğunluğunu gösterirken, aynı zamanda verinin merkezi eğilimini ve dağılımını da incelemenize olanak tanır. kdeplot, bir sayısal değişkenin dağılımını daha iyi anlamak için sıklıkla kullanılır."
   ]
  },
  {
   "cell_type": "code",
   "execution_count": null,
   "id": "eafd8c0d",
   "metadata": {},
   "outputs": [],
   "source": [
    "sns.kdeplot(data=df, x=\"yas\")"
   ]
  },
  {
   "cell_type": "code",
   "execution_count": null,
   "id": "eb49b9f8",
   "metadata": {},
   "outputs": [],
   "source": [
    "sns.kdeplot(data=df, x=\"yas\", bw_adjust=0.1)"
   ]
  },
  {
   "cell_type": "code",
   "execution_count": null,
   "id": "85006ce7",
   "metadata": {},
   "outputs": [],
   "source": [
    "sns.kdeplot(data=df, x=\"yas\", bw_adjust=1, shade=True)"
   ]
  },
  {
   "cell_type": "markdown",
   "id": "bae6fb07",
   "metadata": {},
   "source": [
    "**shade=True** ile grafik içini doldurabiliriz ."
   ]
  },
  {
   "cell_type": "code",
   "execution_count": null,
   "id": "1e7ef9a9",
   "metadata": {},
   "outputs": [],
   "source": [
    "sns.kdeplot(data=df, x=\"yas\", y=\"kilo\")"
   ]
  },
  {
   "cell_type": "markdown",
   "id": "18d95575",
   "metadata": {},
   "source": [
    "En  içerideki giren çizgilerde deger en büyük oluyor ."
   ]
  },
  {
   "cell_type": "markdown",
   "id": "e6ec355e",
   "metadata": {},
   "source": [
    "**Boxplot**"
   ]
  },
  {
   "cell_type": "markdown",
   "id": "1de48394",
   "metadata": {},
   "source": [
    "Box plot (kutu grafik) , veri setinin beş numaralı özeti olarak da bilinen istatistiksel bir grafik türüdür . Box plot , bir veri setinin dağılımını , merkezi eğilimini , çeyrekliklerini ve aykırı değerlerini görselleştirmek için kullanılır . Bu grafik , veri setinin temel istatistiksel özelliklerini hızlı ve etkili bir şekilde anlamanıza yardımcı olur ."
   ]
  },
  {
   "cell_type": "code",
   "execution_count": null,
   "id": "12aaf262",
   "metadata": {},
   "outputs": [],
   "source": [
    "sns.boxplot(data=df, x=\"etnik\", y=\"kilo\")"
   ]
  },
  {
   "cell_type": "markdown",
   "id": "2d5a4c8d",
   "metadata": {},
   "source": [
    "**violinplot**"
   ]
  },
  {
   "cell_type": "markdown",
   "id": "e3bea2bc",
   "metadata": {},
   "source": [
    "Violin plot , kutu grafik (box plot) ve yoğunluk tahmini (kernel density estimate) çizgilerini bir araya getirerek veri dağılımını daha ayrıntılı bir şekilde ifade eder ."
   ]
  },
  {
   "cell_type": "code",
   "execution_count": null,
   "id": "9937b784",
   "metadata": {},
   "outputs": [],
   "source": [
    "sns.violinplot(data=df, x=\"etnik\", y=\"dr\")"
   ]
  },
  {
   "cell_type": "markdown",
   "id": "126c1dc6",
   "metadata": {},
   "source": [
    "**Pairplot**"
   ]
  },
  {
   "cell_type": "markdown",
   "id": "75ccb10f",
   "metadata": {},
   "source": [
    "**seaborn.pairplot()** işlevi , veri setinizdeki sayısal değişkenlerin ikişerli kombinasyonlarının dağılımlarını ve ilişkilerini görselleştirmek için kullanılır . Bu işlev , özellikle çok değişkenli veri setlerini analiz etmek ve değişkenler arasındaki ilişkileri görsel olarak incelemek için kullanışlıdır . Bu tür bir görselleştirme , veri setinizdeki değişkenler arasındaki ilişkileri anlamaya ve veri analizi yapmaya yardımcı olabilir ."
   ]
  },
  {
   "cell_type": "code",
   "execution_count": null,
   "id": "83ec8c0a",
   "metadata": {
    "scrolled": false
   },
   "outputs": [],
   "source": [
    "sns.pairplot(df)"
   ]
  },
  {
   "cell_type": "markdown",
   "id": "16fda6ad",
   "metadata": {},
   "source": [
    "**Jointplot**"
   ]
  },
  {
   "cell_type": "markdown",
   "id": "f718b571",
   "metadata": {},
   "source": [
    "**seaborn.jointplot()** Seaborn kütüphanesinin bir işlevidir ve iki sayısal değişken arasındaki ilişkiyi ve bu değişkenlerin dağılımlarını görselleştirmek için kullanılır. Bu işlev, iki değişken arasındaki ilişkiyi anlamaya yardımcı olmak için dağılım grafikleri, yoğunluk grafikleri veya saçılma (scatter) grafikleri gibi farklı grafik türlerini birleştirir.\n",
    "\n",
    "seaborn.jointplot() işleminin temel amacı, aşağıdaki bilgileri sunmak için farklı grafikleri bir araya getirmektir:\n",
    "\n",
    "**=> İki değişkenin dağılımları:** Her iki değişkenin ayrı ayrı dağılımını gösteren histogramlar veya çekirdek yoğunluk tahminleri.\n",
    "\n",
    "**=> İki değişken arasındaki ilişki:** İki değişkenin birlikte nasıl dağıldığını gösteren saçılma (scatter) grafikleri veya yoğunluk grafikleri. Bu grafikler, değişkenler arasındaki korelasyonu ve ilişkiyi gösterir.\n",
    "\n",
    "**=> Köşegen grafikler:** Her iki değişkenin ayrı ayrı dağılımını gösteren grafiklerdir ve aynı zamanda her iki değişkenin kendi aralarındaki ilişkiyi gösterir."
   ]
  },
  {
   "cell_type": "code",
   "execution_count": null,
   "id": "22fb613c",
   "metadata": {},
   "outputs": [],
   "source": [
    "sns.jointplot(x='yas', y='kilo', data=df)"
   ]
  },
  {
   "cell_type": "code",
   "execution_count": null,
   "id": "08f8257e",
   "metadata": {},
   "outputs": [],
   "source": [
    "sns.jointplot(x='yas', y='kilo', kind='hex', data=df)"
   ]
  },
  {
   "cell_type": "markdown",
   "id": "e881a58c",
   "metadata": {},
   "source": [
    "**NOT !!! . . .**\n",
    "\n",
    "    Renklerin koyulaştığı yer verilerin orada yoğun oldugu anlamına gelir ."
   ]
  },
  {
   "cell_type": "markdown",
   "id": "a1532ae3",
   "metadata": {},
   "source": [
    "**Catplot**"
   ]
  },
  {
   "cell_type": "markdown",
   "id": "c448d67d",
   "metadata": {},
   "source": [
    "**seaborn.catplot()** Seaborn kütüphanesinin bir işlevidir ve kategorik (categorical) veri türlerinin görselleştirilmesi için kullanılır. Bu işlev, kategorik değişkenlerin ve sayısal değişkenlerin ilişkilerini ve dağılımlarını görselleştirmek için tasarlanmıştır. catplot(), farklı türlerde grafikler (örneğin çubuk grafikleri, kutu grafikleri, violin grafikleri, vb.) kullanarak verileri sunma esnekliği sunar."
   ]
  },
  {
   "cell_type": "code",
   "execution_count": null,
   "id": "e479bb4f",
   "metadata": {},
   "outputs": [],
   "source": [
    "sns.catplot(data=df, x='yas', y='kilo', kind='bar')"
   ]
  },
  {
   "cell_type": "markdown",
   "id": "2dea8df3",
   "metadata": {},
   "source": [
    "**Facet Grid**"
   ]
  },
  {
   "cell_type": "markdown",
   "id": "abd7b72e",
   "metadata": {},
   "source": [
    "Seaborn'da facet grid, çoklu alt grafiklerin oluşturulmasını ve veri setinizin farklı alt küme veya kategorileri arasındaki ilişkileri incelemek için kullanılan bir görselleştirme aracıdır. Facet grid, seaborn.FacetGrid sınıfını kullanarak oluşturulur ve genellikle map işlemini kullanarak alt grafikleri doldurur. Bu, farklı alt küme veya kategorilerde verileri görselleştirmek için çok güçlü bir yöntemdir."
   ]
  },
  {
   "cell_type": "markdown",
   "id": "12d4cea1",
   "metadata": {},
   "source": [
    "**Pairgrid**"
   ]
  },
  {
   "cell_type": "markdown",
   "id": "e58ecc4f",
   "metadata": {},
   "source": [
    "seaborn.PairGrid, Seaborn kütüphanesinde kullanılan bir sınıftır ve çoklu alt grafiklerin oluşturulmasını ve çoklu sayısal değişkenler arasındaki ilişkileri görselleştirmek için kullanılır. PairGrid, veri setinizdeki farklı sayısal değişkenlerin kombinasyonlarını görselleştirmek için kullanılır ve genellikle veri keşfi ve analizi sırasında kullanılır."
   ]
  },
  {
   "cell_type": "markdown",
   "id": "c32d93c1",
   "metadata": {},
   "source": [
    "**Heatmap**"
   ]
  },
  {
   "cell_type": "markdown",
   "id": "cf1f462e",
   "metadata": {},
   "source": [
    "Sadece ndarray ve sayısal verileri okur ."
   ]
  },
  {
   "cell_type": "code",
   "execution_count": null,
   "id": "2547c292",
   "metadata": {},
   "outputs": [],
   "source": []
  },
  {
   "cell_type": "code",
   "execution_count": 28,
   "id": "f083220b",
   "metadata": {},
   "outputs": [
    {
     "data": {
      "text/html": [
       "<div>\n",
       "<style scoped>\n",
       "    .dataframe tbody tr th:only-of-type {\n",
       "        vertical-align: middle;\n",
       "    }\n",
       "\n",
       "    .dataframe tbody tr th {\n",
       "        vertical-align: top;\n",
       "    }\n",
       "\n",
       "    .dataframe thead th {\n",
       "        text-align: right;\n",
       "    }\n",
       "</style>\n",
       "<table border=\"1\" class=\"dataframe\">\n",
       "  <thead>\n",
       "    <tr style=\"text-align: right;\">\n",
       "      <th></th>\n",
       "      <th>yas</th>\n",
       "      <th>cinsiyet</th>\n",
       "      <th>etnik</th>\n",
       "      <th>kilo</th>\n",
       "      <th>boy</th>\n",
       "      <th>dr</th>\n",
       "    </tr>\n",
       "  </thead>\n",
       "  <tbody>\n",
       "    <tr>\n",
       "      <th>0</th>\n",
       "      <td>47</td>\n",
       "      <td>kadin</td>\n",
       "      <td>D</td>\n",
       "      <td>112</td>\n",
       "      <td>165</td>\n",
       "      <td>10</td>\n",
       "    </tr>\n",
       "    <tr>\n",
       "      <th>1</th>\n",
       "      <td>26</td>\n",
       "      <td>erkek</td>\n",
       "      <td>C</td>\n",
       "      <td>128</td>\n",
       "      <td>168</td>\n",
       "      <td>9</td>\n",
       "    </tr>\n",
       "    <tr>\n",
       "      <th>2</th>\n",
       "      <td>26</td>\n",
       "      <td>erkek</td>\n",
       "      <td>B</td>\n",
       "      <td>91</td>\n",
       "      <td>173</td>\n",
       "      <td>6</td>\n",
       "    </tr>\n",
       "    <tr>\n",
       "      <th>3</th>\n",
       "      <td>39</td>\n",
       "      <td>erkek</td>\n",
       "      <td>C</td>\n",
       "      <td>108</td>\n",
       "      <td>185</td>\n",
       "      <td>9</td>\n",
       "    </tr>\n",
       "    <tr>\n",
       "      <th>4</th>\n",
       "      <td>55</td>\n",
       "      <td>erkek</td>\n",
       "      <td>A</td>\n",
       "      <td>90</td>\n",
       "      <td>155</td>\n",
       "      <td>10</td>\n",
       "    </tr>\n",
       "    <tr>\n",
       "      <th>...</th>\n",
       "      <td>...</td>\n",
       "      <td>...</td>\n",
       "      <td>...</td>\n",
       "      <td>...</td>\n",
       "      <td>...</td>\n",
       "      <td>...</td>\n",
       "    </tr>\n",
       "    <tr>\n",
       "      <th>995</th>\n",
       "      <td>43</td>\n",
       "      <td>kadin</td>\n",
       "      <td>E</td>\n",
       "      <td>124</td>\n",
       "      <td>173</td>\n",
       "      <td>16</td>\n",
       "    </tr>\n",
       "    <tr>\n",
       "      <th>996</th>\n",
       "      <td>34</td>\n",
       "      <td>kadin</td>\n",
       "      <td>D</td>\n",
       "      <td>112</td>\n",
       "      <td>193</td>\n",
       "      <td>8</td>\n",
       "    </tr>\n",
       "    <tr>\n",
       "      <th>997</th>\n",
       "      <td>54</td>\n",
       "      <td>kadin</td>\n",
       "      <td>B</td>\n",
       "      <td>141</td>\n",
       "      <td>191</td>\n",
       "      <td>12</td>\n",
       "    </tr>\n",
       "    <tr>\n",
       "      <th>998</th>\n",
       "      <td>38</td>\n",
       "      <td>erkek</td>\n",
       "      <td>E</td>\n",
       "      <td>29</td>\n",
       "      <td>191</td>\n",
       "      <td>7</td>\n",
       "    </tr>\n",
       "    <tr>\n",
       "      <th>999</th>\n",
       "      <td>62</td>\n",
       "      <td>kadin</td>\n",
       "      <td>D</td>\n",
       "      <td>97</td>\n",
       "      <td>170</td>\n",
       "      <td>12</td>\n",
       "    </tr>\n",
       "  </tbody>\n",
       "</table>\n",
       "<p>1000 rows × 6 columns</p>\n",
       "</div>"
      ],
      "text/plain": [
       "     yas cinsiyet etnik  kilo  boy  dr\n",
       "0     47    kadin     D   112  165  10\n",
       "1     26    erkek     C   128  168   9\n",
       "2     26    erkek     B    91  173   6\n",
       "3     39    erkek     C   108  185   9\n",
       "4     55    erkek     A    90  155  10\n",
       "..   ...      ...   ...   ...  ...  ..\n",
       "995   43    kadin     E   124  173  16\n",
       "996   34    kadin     D   112  193   8\n",
       "997   54    kadin     B   141  191  12\n",
       "998   38    erkek     E    29  191   7\n",
       "999   62    kadin     D    97  170  12\n",
       "\n",
       "[1000 rows x 6 columns]"
      ]
     },
     "execution_count": 28,
     "metadata": {},
     "output_type": "execute_result"
    }
   ],
   "source": [
    "df"
   ]
  },
  {
   "cell_type": "code",
   "execution_count": null,
   "id": "295960d4",
   "metadata": {},
   "outputs": [],
   "source": []
  },
  {
   "cell_type": "code",
   "execution_count": null,
   "id": "0e93bbde",
   "metadata": {},
   "outputs": [],
   "source": []
  },
  {
   "cell_type": "code",
   "execution_count": null,
   "id": "ed56c537",
   "metadata": {},
   "outputs": [],
   "source": []
  },
  {
   "cell_type": "code",
   "execution_count": null,
   "id": "68bff3af",
   "metadata": {},
   "outputs": [],
   "source": []
  }
 ],
 "metadata": {
  "kernelspec": {
   "display_name": "Python 3 (ipykernel)",
   "language": "python",
   "name": "python3"
  },
  "language_info": {
   "codemirror_mode": {
    "name": "ipython",
    "version": 3
   },
   "file_extension": ".py",
   "mimetype": "text/x-python",
   "name": "python",
   "nbconvert_exporter": "python",
   "pygments_lexer": "ipython3",
   "version": "3.11.4"
  }
 },
 "nbformat": 4,
 "nbformat_minor": 5
}
